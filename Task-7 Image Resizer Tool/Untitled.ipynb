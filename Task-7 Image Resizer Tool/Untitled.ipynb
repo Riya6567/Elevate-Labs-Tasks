{
 "cells": [
  {
   "cell_type": "code",
   "execution_count": 1,
   "id": "80914c3d-7baf-42ba-a0e7-6a91b6298305",
   "metadata": {},
   "outputs": [],
   "source": [
    "import os\n",
    "from PIL import Image"
   ]
  },
  {
   "cell_type": "code",
   "execution_count": 3,
   "id": "9bf6f629-fc58-4052-af47-bd45ca6a3b8d",
   "metadata": {},
   "outputs": [
    {
     "name": "stdout",
     "output_type": "stream",
     "text": [
      "✅ img1.jpg resized and saved as output_folder\\img1.jpeg\n",
      "✅ img2.jpg resized and saved as output_folder\\img2.jpeg\n",
      "\n",
      "🎉 All images have been resized and saved successfully!\n"
     ]
    }
   ],
   "source": [
    "# === Configuration ===\n",
    "input_folder = \"input_folder\"       # Folder containing original images\n",
    "output_folder = \"output_folder\"    # Folder to save resized images\n",
    "new_size = (800, 600)               # Resize all images to 800x600 pixels\n",
    "output_format = \"JPEG\"              # Convert to JPEG (you can change to PNG, WEBP, etc.)\n",
    "\n",
    "# === Ensure output folder exists ===\n",
    "if not os.path.exists(output_folder):\n",
    "    os.makedirs(output_folder)\n",
    "\n",
    "# === Process all images in the input folder ===\n",
    "for filename in os.listdir(input_folder):\n",
    "    if filename.lower().endswith(('.png', '.jpg', '.jpeg', '.bmp', '.gif', '.webp')):\n",
    "        img_path = os.path.join(input_folder, filename)\n",
    "        img = Image.open(img_path)\n",
    "\n",
    "        # Resize the image\n",
    "        resized_img = img.resize(new_size)\n",
    "\n",
    "        # Remove file extension and save with new format\n",
    "        base_name = os.path.splitext(filename)[0]\n",
    "        output_path = os.path.join(output_folder, f\"{base_name}.{output_format.lower()}\")\n",
    "\n",
    "        # Save resized and converted image\n",
    "        resized_img.save(output_path, output_format)\n",
    "        print(f\"✅ {filename} resized and saved as {output_path}\")\n",
    "\n",
    "print(\"\\n🎉 All images have been resized and saved successfully!\")\n"
   ]
  },
  {
   "cell_type": "code",
   "execution_count": null,
   "id": "f55f5127-5167-47f6-b675-9072229a0a6a",
   "metadata": {},
   "outputs": [],
   "source": []
  }
 ],
 "metadata": {
  "kernelspec": {
   "display_name": "Python [conda env:base] *",
   "language": "python",
   "name": "conda-base-py"
  },
  "language_info": {
   "codemirror_mode": {
    "name": "ipython",
    "version": 3
   },
   "file_extension": ".py",
   "mimetype": "text/x-python",
   "name": "python",
   "nbconvert_exporter": "python",
   "pygments_lexer": "ipython3",
   "version": "3.13.5"
  }
 },
 "nbformat": 4,
 "nbformat_minor": 5
}
